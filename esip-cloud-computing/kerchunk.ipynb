{
 "cells": [
  {
   "attachments": {},
   "cell_type": "markdown",
   "metadata": {},
   "source": [
    "# Kerchunk\n",
    "\n",
    "This is a companion notebook to [Kerchunk and Pangeo-Forge](notebooks/kerchunk-pangeo-forge.ipynb) to demonstrate how to recreate the processing pipeline using `Kerchunk` without `Pangeo-Forge`. Details on the dataset and processing steps are outlined in more detail in the previous notebook.\n",
    "\n",
    "More detailed guides to `Kerchunk` can be found in the [Docs](https://fsspec.github.io/kerchunk/) and the [Project Pythia Cookbook](https://projectpythia.org/kerchunk-cookbook/README.html)"
   ]
  },
  {
   "cell_type": "code",
   "execution_count": null,
   "metadata": {},
   "outputs": [],
   "source": [
    "import dask\n",
    "import fsspec\n",
    "import glob\n",
    "import logging\n",
    "import ujson\n",
    "import warnings\n",
    "import xarray as xr\n",
    "\n",
    "from tempfile import TemporaryDirectory\n",
    "from distributed import Client\n",
    "from kerchunk.combine import MultiZarrToZarr\n",
    "from kerchunk.hdf import SingleHdf5ToZarr"
   ]
  },
  {
   "attachments": {},
   "cell_type": "markdown",
   "metadata": {},
   "source": [
    "## Exaimine a Single File"
   ]
  },
  {
   "cell_type": "code",
   "execution_count": null,
   "metadata": {},
   "outputs": [],
   "source": [
    "import xarray as xr\n",
    "\n",
    "ds = xr.open_dataset(\n",
    "    \"http://thredds.northwestknowledge.net:8080/thredds/dodsC/MET/bi/bi_2021.nc\"\n",
    ")"
   ]
  },
  {
   "cell_type": "code",
   "execution_count": null,
   "metadata": {},
   "outputs": [],
   "source": [
    "ds"
   ]
  },
  {
   "attachments": {},
   "cell_type": "markdown",
   "metadata": {},
   "source": [
    "### Startup a Dask Client for Parallel Processing"
   ]
  },
  {
   "cell_type": "code",
   "execution_count": null,
   "metadata": {},
   "outputs": [],
   "source": [
    "client = Client(n_workers=8, silence_logs=logging.ERROR)\n",
    "client"
   ]
  },
  {
   "attachments": {},
   "cell_type": "markdown",
   "metadata": {},
   "source": [
    "### Create List of URLs"
   ]
  },
  {
   "cell_type": "code",
   "execution_count": null,
   "metadata": {},
   "outputs": [],
   "source": [
    "start_year = 1979\n",
    "end_year = 1981  # Data is available until 2022. This example only processes 2 years\n",
    "\n",
    "years = list(range(start_year, end_year + 1))\n",
    "\n",
    "url_list = [\n",
    "    f\"http://www.northwestknowledge.net/metdata/data/bi_{time}.nc\" for time in years\n",
    "]"
   ]
  },
  {
   "attachments": {},
   "cell_type": "markdown",
   "metadata": {},
   "source": [
    "### Create a Temp Directory to Write"
   ]
  },
  {
   "cell_type": "code",
   "execution_count": null,
   "metadata": {},
   "outputs": [],
   "source": [
    "import os\n",
    "from tempfile import TemporaryDirectory\n",
    "\n",
    "td = TemporaryDirectory()\n",
    "target_root = td.name\n",
    "target_root = \"esip\"\n",
    "store_name = \"kerchunk\"\n",
    "target_store = os.path.join(target_root, store_name)"
   ]
  },
  {
   "attachments": {},
   "cell_type": "markdown",
   "metadata": {},
   "source": [
    "### Use `SingleHdf5ToZarr` to Create Kerchunk References\n"
   ]
  },
  {
   "cell_type": "code",
   "execution_count": null,
   "metadata": {},
   "outputs": [],
   "source": [
    "def generate_json_reference(fil, output_dir: str):\n",
    "    h5chunks = SingleHdf5ToZarr(fil, inline_threshold=300)\n",
    "    fname = fil.split(\"/\")[-1].strip(\".nc\")\n",
    "    outf = f\"{output_dir}/{fname}.json\"\n",
    "    with open(outf, \"wb\") as f:\n",
    "        f.write(ujson.dumps(h5chunks.translate()).encode())\n",
    "    return outf\n",
    "\n",
    "\n",
    "# Generate Dask Delayed objects\n",
    "tasks = [dask.delayed(generate_json_reference)(fil, target_store) for fil in url_list]"
   ]
  },
  {
   "cell_type": "code",
   "execution_count": null,
   "metadata": {},
   "outputs": [],
   "source": [
    "\n",
    "%%time \n",
    "# Start parallel processing\n",
    "\n",
    "warnings.filterwarnings(\"ignore\")\n",
    "dask.compute(tasks)"
   ]
  },
  {
   "attachments": {},
   "cell_type": "markdown",
   "metadata": {},
   "source": [
    "### Combine Kerchunk Reference Files into Combined Reference"
   ]
  },
  {
   "cell_type": "code",
   "execution_count": null,
   "metadata": {},
   "outputs": [],
   "source": [
    "%%time\n",
    "\n",
    "# Create a list of reference json files\n",
    "output_files = glob.glob(f\"{target_store}/*.json\")\n",
    "\n",
    "# combine individual references into single consolidated reference\n",
    "mzz = MultiZarrToZarr(\n",
    "    output_files,\n",
    "    concat_dims=[\"day\"],\n",
    "    identical_dims=[\"lat\", \"lon\", \"crs\"],\n",
    ")\n",
    "\n",
    "multi_kerchunk = mzz.translate()\n",
    "\n",
    "# Write in-memory Kerchunk combined reference to json\n",
    "output_fname = \"Combined_Reference.json\"\n",
    "with open(f\"{output_fname}\", \"wb\") as f:\n",
    "    f.write(ujson.dumps(multi_kerchunk).encode())"
   ]
  },
  {
   "attachments": {},
   "cell_type": "markdown",
   "metadata": {},
   "source": [
    "## Load Kerchunk Dataset"
   ]
  },
  {
   "cell_type": "code",
   "execution_count": null,
   "metadata": {},
   "outputs": [],
   "source": [
    "fs = fsspec.filesystem(\n",
    "    \"reference\",\n",
    "    fo=\"Combined_Reference.json\",\n",
    "    remote_protocol=\"http\",\n",
    "    remote_options={\"anon\": True},\n",
    "    skip_instance_cache=True,\n",
    ")\n",
    "ds = xr.open_dataset(fs.get_mapper(\"\"), engine=\"zarr\")"
   ]
  },
  {
   "cell_type": "code",
   "execution_count": null,
   "metadata": {},
   "outputs": [],
   "source": [
    "ds"
   ]
  }
 ],
 "metadata": {
  "kernelspec": {
   "display_name": "Python 3",
   "language": "python",
   "name": "python3"
  },
  "language_info": {
   "codemirror_mode": {
    "name": "ipython",
    "version": 3
   },
   "file_extension": ".py",
   "mimetype": "text/x-python",
   "name": "python",
   "nbconvert_exporter": "python",
   "pygments_lexer": "ipython3",
   "version": "3.10.6"
  },
  "vscode": {
   "interpreter": {
    "hash": "b0fa6594d8f4cbf19f97940f81e996739fb7646882a419484c72d19e05852a7e"
   }
  }
 },
 "nbformat": 4,
 "nbformat_minor": 2
}
